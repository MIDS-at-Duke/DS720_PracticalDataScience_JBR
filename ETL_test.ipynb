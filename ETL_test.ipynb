{
 "cells": [
  {
   "cell_type": "markdown",
   "metadata": {},
   "source": [
    "# Filtering the data for the States of out interest\n",
    "\n",
    "In the cells bellow we will filter the data for the states of interest, Florida (FL), Washington (WA) and Texas (TX).\n",
    "\n",
    "The first cell is two see a glimpse of the data before filtering.\n",
    "The second cell filters the data.\n",
    "The third cell generates the files for the states of interest."
   ]
  },
  {
   "cell_type": "code",
   "execution_count": 5,
   "metadata": {},
   "outputs": [
    {
     "name": "stdout",
     "output_type": "stream",
     "text": [
      "  REPORTER_DEA_NO REPORTER_BUS_ACT         REPORTER_NAME  \\\n",
      "0       RM0220688      DISTRIBUTOR  MCKESSON CORPORATION   \n",
      "1       RM0220688      DISTRIBUTOR  MCKESSON CORPORATION   \n",
      "2       RM0220688      DISTRIBUTOR  MCKESSON CORPORATION   \n",
      "\n",
      "   REPORTER_ADDL_CO_INFO      REPORTER_ADDRESS1  REPORTER_ADDRESS2  \\\n",
      "0                    NaN  DBA MCKESSON DRUG CO.  3000 KENSKILL AVE   \n",
      "1                    NaN  DBA MCKESSON DRUG CO.  3000 KENSKILL AVE   \n",
      "2                    NaN  DBA MCKESSON DRUG CO.  3000 KENSKILL AVE   \n",
      "\n",
      "         REPORTER_CITY REPORTER_STATE  REPORTER_ZIP REPORTER_COUNTY  ...  \\\n",
      "0  WASHINGTON CT HOUSE             OH         43160         FAYETTE  ...   \n",
      "1  WASHINGTON CT HOUSE             OH         43160         FAYETTE  ...   \n",
      "2  WASHINGTON CT HOUSE             OH         43160         FAYETTE  ...   \n",
      "\n",
      "     DRUG_NAME Measure MME_Conversion_Factor Dosage_Strength TRANSACTION_DATE  \\\n",
      "0    OXYCODONE     TAB                   1.5            10.0       2011-02-08   \n",
      "1  HYDROCODONE     TAB                   1.0             7.5       2011-03-07   \n",
      "2    OXYCODONE     TAB                   1.5            10.0       2011-03-10   \n",
      "\n",
      "      Combined_Labeler_Name       Reporter_family CALC_BASE_WT_IN_GM  \\\n",
      "0  Par Pharmaceutical, Inc.  McKesson Corporation            0.89650   \n",
      "1                SpecGx LLC  McKesson Corporation            0.45405   \n",
      "2  Par Pharmaceutical, Inc.  McKesson Corporation            3.58600   \n",
      "\n",
      "   DOSAGE_UNIT      MME  \n",
      "0        100.0  1344.75  \n",
      "1        100.0   454.05  \n",
      "2        400.0  5379.00  \n",
      "\n",
      "[3 rows x 33 columns]\n"
     ]
    }
   ],
   "source": [
    "import pandas as pd\n",
    "\n",
    "chunksize = 200\n",
    "\n",
    "\n",
    "# Create TextFileReader object\n",
    "reader = pd.read_csv(\"../arcos_all_washpost.tsv\", delimiter=\"\\t\", chunksize=chunksize)\n",
    "\n",
    "# Get the first chunk\n",
    "first_chunk = next(reader)\n",
    "\n",
    "# Now first_chunk is a DataFrame that you can work with\n",
    "print(first_chunk.head(3))"
   ]
  },
  {
   "cell_type": "code",
   "execution_count": 14,
   "metadata": {},
   "outputs": [],
   "source": [
    "import warnings\n",
    "\n",
    "warnings.filterwarnings(\"ignore\")\n",
    "# Assuming you have a large DataFrame saved in a file\n",
    "file_path = \"../arcos_all_washpost.tsv\"  # Change to your file path\n",
    "\n",
    "# Create an empty list to store filtered chunks\n",
    "filtered_chunks = []\n",
    "\n",
    "# List of states you want to filter\n",
    "states_to_filter = [\"FL\", \"TX\", \"WA\"]\n",
    "\n",
    "# Set chunk size (adjust as needed)\n",
    "chunk_size = 100_000\n",
    "\n",
    "# Read the data in chunks and filter it\n",
    "for chunk in pd.read_csv(file_path, delimiter=\"\\t\", chunksize=chunk_size):\n",
    "    # Filter the chunk based on the condition\n",
    "    if chunk[chunk[\"BUYER_STATE\"].isin(states_to_filter)].shape[0] > 0:\n",
    "        filtered_chunk = chunk[chunk[\"BUYER_STATE\"].isin(states_to_filter)]\n",
    "        filtered_chunks.append(filtered_chunk)\n",
    "\n",
    "# Concatenate the filtered chunks into a new DataFrame\n",
    "filtered_df = pd.concat(filtered_chunks)"
   ]
  },
  {
   "cell_type": "code",
   "execution_count": 19,
   "metadata": {},
   "outputs": [],
   "source": [
    "for state in states_to_filter:\n",
    "    filtered_df[filtered_df[\"BUYER_STATE\"] == state].to_csv(\n",
    "        f\"../arcos_all_washpost_{state}.tsv\", sep=\"\\t\", index=False\n",
    "    )"
   ]
  }
 ],
 "metadata": {
  "kernelspec": {
   "display_name": "base",
   "language": "python",
   "name": "python3"
  },
  "language_info": {
   "codemirror_mode": {
    "name": "ipython",
    "version": 3
   },
   "file_extension": ".py",
   "mimetype": "text/x-python",
   "name": "python",
   "nbconvert_exporter": "python",
   "pygments_lexer": "ipython3",
   "version": "3.11.5"
  }
 },
 "nbformat": 4,
 "nbformat_minor": 2
}
